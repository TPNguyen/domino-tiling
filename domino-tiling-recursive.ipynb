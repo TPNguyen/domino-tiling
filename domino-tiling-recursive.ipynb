{
 "cells": [
  {
   "cell_type": "code",
   "execution_count": 17,
   "metadata": {},
   "outputs": [],
   "source": [
    "# Copyright 2019 Eugene Maslovich\n",
    "# ehpc@ehpc.io"
   ]
  },
  {
   "cell_type": "code",
   "execution_count": 18,
   "metadata": {},
   "outputs": [
    {
     "data": {
      "text/plain": [
       "'gmpy'"
      ]
     },
     "execution_count": 18,
     "metadata": {},
     "output_type": "execute_result"
    }
   ],
   "source": [
    "import timeit\n",
    "import pandas as pd\n",
    "import numpy as np\n",
    "from sklearn import linear_model\n",
    "from sklearn.preprocessing import PolynomialFeatures\n",
    "import matplotlib\n",
    "import matplotlib.pyplot as plt\n",
    "import seaborn as sns\n",
    "import time\n",
    "import datetime\n",
    "import math\n",
    "from mpmath import mp\n",
    "import mpmath.libmp\n",
    "from multiprocessing import Pool\n",
    "%matplotlib inline\n",
    "mpmath.libmp.BACKEND"
   ]
  },
  {
   "cell_type": "markdown",
   "metadata": {},
   "source": [
    "# Содержание\n",
    "\n",
    "1. [Задача](#task)\n",
    "1. [Алгоритм](#alrorithm)\n",
    "    1. [Полностью замощённая доска](#fullboard)\n",
    "    1. [Полностью пустая доска](#emptyboard)\n",
    "    1. [Переходы для векторов](#transitions)\n",
    "    1. [Рекурсивный алгоритм](#recursive)\n",
    "    1. [Оптимизация рекурсии](#recursion-optimization)\n",
    "    1. [Оптимизированный рекурсивный алгоритм](#recursion-optimized)\n",
    "    1. [Переходы для векторов](#transitions)\n",
    "    1. [Алгоритм переходов для векторов](#transitions-algorithm)\n",
    "1. [Реализация](#code)\n",
    "    1. [Анализ производительности функций ](#perf)\n",
    "    1. [Работа с векторами](#code-vectors)\n",
    "    1. [Рекурсивный алгоритм](#code-recursive)\n",
    "    1. [Оптимизированный рекурсивный алгоритм](#code-recursive-optimized)\n",
    "1. [Вычисленные числа в данной тетрадке](#computed)"
   ]
  },
  {
   "cell_type": "markdown",
   "metadata": {},
   "source": [
    "# Задача <a name=\"task\"></a>\n",
    "\n",
    "Найти количество различных замощений $n$ прямоугольника (доски) $axb$, где $a$ - высота, $b$ - ширина, прямоугольниками $1x2$ (доминошками) с возможностью ротации на $90°$."
   ]
  },
  {
   "cell_type": "markdown",
   "metadata": {},
   "source": [
    "# Алгоритм  <a name=\"algorithm\"></a>\n",
    "\n",
    "Попытаемся придумать алгоритм для решения поставленной задачи.\n",
    "\n",
    "Рассмотрим в качестве примера доску размера $a \\times b = 4 \\times 5$:\n",
    "\n",
    "```\n",
    "  1 2 3 4 5\n",
    " +-+-+-+-+-+\n",
    "1| | | | | |\n",
    " +---------+\n",
    "2| | | | | |\n",
    " +---------+\n",
    "3| | | | | |\n",
    " +---------+\n",
    "4| | | | | |\n",
    " +-+-+-+-+-+\n",
    "```\n",
    "\n",
    "Представим, что мы уже частично покрыли доску доминошками (здесь одинаковые буквы принадлежат одной доминошке):\n",
    "\n",
    "```\n",
    "  1 2 3 4 5\n",
    " +-+-+-+-+-+\n",
    "1|A|D|D| | |\n",
    " +---------+\n",
    "2|A|E|E| | |\n",
    " +---------+\n",
    "3|B|B| | | |\n",
    " +---------+\n",
    "4|C|C| | | |\n",
    " +-+-+-+-+-+\n",
    "```\n",
    "\n",
    "Для упрощения языка, введём понятие \"**конфигурация** доски\". Конфигурация доски показывает, как доска покрыта доминошками. Можно заметить, что всегда есть некоторое количество **полностью** покрытых доминошками **столбцов**. А также есть **один** столбец, покрытый частично.\n",
    "\n",
    "Полностью покрытые столбцы можно обозначить как\n",
    "\n",
    "$$i \\in \\{0, 1, 2, ..., b\\}.$$\n",
    "\n",
    "А частично покрытый столбец можно представить вектором, показывающим, какие ячейки в незаполненном столбце заполнены, а какие нет\n",
    "\n",
    "$$v = \\begin{bmatrix} v_1 \\; v_2 \\; \\dots \\; v_a \\end{bmatrix}, v_x \\in \\{\\text{входит}, \\text{не входит}\\}$$\n",
    "\n",
    "Так как элементы вектора принимают всего два значения, можно использовать множество $\\{0, 1\\}$, где $0$ обозначает \"не входит\", а сам вектор представлять битовой маской. Таким образом получаем\n",
    "\n",
    "$$v = \\begin{bmatrix} v_1 \\; v_2 \\; \\dots \\; v_a \\end{bmatrix}, v_x \\in \\{0, 1\\}$$\n",
    "\n",
    "Саму конфигурацию обозначим как\n",
    "\n",
    "$$f(i, v).$$\n",
    "\n",
    "Используя введённые обозначения, текущую конфигурацию доски можно записать так:\n",
    "\n",
    "$$f(2, 1100).$$\n",
    "\n",
    "Представим, что для конфигурации $f(2, 1100)$ нам уже известно количество возможных замощений. То есть каким-то магическим образом, мы смогли перебрать все варианты и посчитать их количество. Пусть $f$ будет функцией, которая возвращает это количество. Можем обозначить данное утверждение как\n",
    "\n",
    "$$f(2, 1100) = k_{2,1100} \\in \\mathbb{N}.$$\n",
    "\n",
    "Чтобы найти количество вариантов замощения всей доски, нам надо из текущей конфигурации перейти во все остальные возможные конфигурации. Попробуем для начала перейти в конфигурации $f(3, ?)$. Нарисуем все возможные варианты:\n",
    "\n",
    "```\n",
    "  1 2 3 4 5         1 2 3 4 5          1 2 3 4 5\n",
    " +-+-+-+-+-+       +-+-+-+-+-+        +-+-+-+-+-+\n",
    "1|A|D|D| | |      1|A|D|D| | |       1|A|D|D| | |\n",
    " +---------+       +---------+        +---------+\n",
    "2|A|E|E| | |      2|A|E|E| | |       2|A|E|E| | |\n",
    " +---------+  ->   +---------+  ИЛИ   +---------+\n",
    "3|B|B| | | |      3|B|B|Z|Z| |       3|B|B|Y| | |\n",
    " +---------+       +---------+        +---------+\n",
    "4|C|C| | | |      4|C|C|X|X| |       4|C|C|Y| | |\n",
    " +-+-+-+-+-+       +-+-+-+-+-+        +-+-+-+-+-+\n",
    "```\n",
    "\n",
    "Как видно, чтобы полностью заполнить 3-й столбец, можно либо положить две доминошки горизонтально, либо одну вертикально.\n",
    "\n",
    "Таким образом, из $f(2, 1100)$ мы можем перейти в две конфигурации: $f(3, 0011)$ и $f(3, 0000)$.\n",
    "\n",
    "Заметим, что $f(3, 0011) = f(3, 0000) = f(2, 1100) + 1 = k_{2,1100} + 1$. То есть, количество замощений на следующем шаге зависит от предыдущих шагов. Это означает, что задачу можно попытаться решить рекурсивно.\n",
    "\n",
    "Но для начала рассмотрим два крайних случая: полностью замощённая доска и полностью пустая доска."
   ]
  },
  {
   "cell_type": "markdown",
   "metadata": {},
   "source": [
    "## Полностью замощённая доска <a name=\"fullboard\"></a>\n",
    "\n",
    "Представим, что наша доска полностью замощена. Эту конфигурацию можно записать как\n",
    "\n",
    "$$f(5, 0000).$$\n",
    "\n",
    "По сути это означает, что все 5 столбцов заполнены доминошками, а 6-й столбец не содержит ни одной доминошки. Понятно, что 6-го столбца на самом деле нет, но именно конфигурация $f(5, 0000)$ является единственной корректно завершающей замощение.\n",
    "\n",
    "Если каким-то образом, мы окажемся, например в состоянии $f(5, 0011)$, то такое состояние нельзя считать успешным, так как оно соответствует следующей доске:\n",
    "\n",
    "```\n",
    "  1 2 3 4 5\n",
    " +-+-+-+-+-+\n",
    "1|A|A|E|E|I|\n",
    " +---------+\n",
    "2|B|D|F|H|I|\n",
    " +---------+\n",
    "3|B|D|F|H|J|J\n",
    " +---------+\n",
    "4|C|C|G|G|K|K\n",
    " +-+-+-+-+-+\n",
    "```\n",
    "\n",
    "То есть две доминошку выходят за пределы доски, что является некорректным.\n",
    "\n",
    "Конфигурацию $f(b, 0)$ можно рассматривать как условие завершения рекурсии."
   ]
  },
  {
   "cell_type": "markdown",
   "metadata": {},
   "source": [
    "## Полностью пустая доска <a name=\"emptyboard\"></a>\n",
    "\n",
    "Представим, что наша доска пустая.\n",
    "\n",
    "```\n",
    "  1 2 3 4 5\n",
    " +-+-+-+-+-+\n",
    "1| | | | | |\n",
    " +---------+\n",
    "2| | | | | |\n",
    " +---------+\n",
    "3| | | | | |\n",
    " +---------+\n",
    "4| | | | | |\n",
    " +-+-+-+-+-+\n",
    "```\n",
    "\n",
    "Эту конфигурацию можно записать как\n",
    "\n",
    "$$f(0, 0000).$$\n",
    "\n",
    "Именно из этого состояния мы начинаем все попытки замощения доски. Поэтому, состояние $(f0, 0)$ можно рассматривать как начальные параметры рекурсии."
   ]
  },
  {
   "cell_type": "markdown",
   "metadata": {},
   "source": [
    "## Рекурсивный алгоритм <a name=\"recursive\"></a>\n",
    "\n",
    "Попробуем представить рекурсивный алгоритм. Нам уже известны два параметра, которые необходимы для передачи состояния рекурсии: $i$ и $v$, а также начальные параметры и условие завершения. На данном этапе допустим, что мы также знаем способ получения следующих состояний через векторы. Объединив все эти данные, получаем следующий алгоритм:\n",
    "\n",
    "```python\n",
    "def count_tilings(i, v):\n",
    "    if i == b:       # Если мы находимся в конечном состоянии f(b, ?)\n",
    "        if v == 0:   # Если конечное состояние коррректно f(b, 0)\n",
    "            return 1 # Счетчик корректных замощений добавит 1 к общему числу\n",
    "        else:\n",
    "            return 0 # Счетчик корректных замощений получит 0, то есть не добавит ничего к общему числу\n",
    "    counter = 0      # Счетчик корректных замощений, начинающихся с конфигурации f(i, v)\n",
    "    for v_next in range(0, 2**a):       # Из текущего вектора мы пробуем перейти во все возможные другие вектора\n",
    "        if can_go_to_v_next(v, v_next): # Если мы можем перейти из вектора v в вектор v_next\n",
    "            counter += count_tilings(i + 1, v_next) # Считаем все возможные замощения из конфигурации f(i+1, v_next)\n",
    "    return counter   # Возвращаем все возможные замощения из конфигурации f(i, v)\n",
    "\n",
    "answer = count_tilings(0, 0)  # Запускаем рекурсию с начальным состоянием f(0, 0)\n",
    "```"
   ]
  },
  {
   "cell_type": "markdown",
   "metadata": {},
   "source": [
    "## Оптимизация рекурсии <a name=\"recursion-optimization\"></a>\n",
    "\n",
    "Представим следующие варианты замощения:\n",
    "\n",
    "```\n",
    "  1 2 3 4 5         1 2 3 4 5\n",
    " +-+-+-+-+-+       +-+-+-+-+-+\n",
    "1|A|D|D| | |      1|A|D|D|H|H|\n",
    " +---------+       +---------+\n",
    "2|A|E|E| | |      2|A|E|E|I|I|\n",
    " +---------+  ->   +---------+\n",
    "3|B|B|F|F| |      3|B|B|F|F| |\n",
    " +---------+       +---------+\n",
    "4|C|C|G|G| |      4|C|C|G|G| |\n",
    " +-+-+-+-+-+       +-+-+-+-+-+\n",
    " f(3, 0011)        f(4, 1100)\n",
    " \n",
    " \n",
    "  1 2 3 4 5         1 2 3 4 5\n",
    " +-+-+-+-+-+       +-+-+-+-+-+\n",
    "1|A|C|C| | |      1|A|C|C|H|H|\n",
    " +---------+       +---------+\n",
    "2|A|D|D| | |      2|A|D|D|I|I|\n",
    " +---------+  ->   +---------+\n",
    "3|B|E|F|F| |      3|B|E|F|F| |\n",
    " +---------+       +---------+\n",
    "4|B|E|G|G| |      4|B|E|G|G| |\n",
    " +-+-+-+-+-+       +-+-+-+-+-+\n",
    " f(3, 0011)        f(4, 1100)\n",
    "```\n",
    "\n",
    "Можно заметить, что отличие состоит лишь в том, как расположены доминошки в нижнем левом квадранте. В первом случае они лежат горизонтально, во втором - вертикально.\n",
    "\n",
    "Допустим, что мы получили ответ для первого варианта - количество возможных замощений из конфигурации $f(3, 0011)$ при условии горизонтального расположения доминошек в левом нижнем квадранте.\n",
    "\n",
    "Теперь при проходе второго варианта, нам придётся снова решить ту же самую задачу - найти количество возможных замощений из конфигурации $f(3, 0011)$.\n",
    "\n",
    "Мы можем воспользоваться этим фактом, чтобы оптимизировать рекурсивный алгоритм, сохраняя уже найденные ответы для различных конфигураций. Тем самым мы сможем избежать повторных вычислений.\n",
    "\n",
    "Сохранять значения можно в **таблицу** размерностью $b \\times 2^a$. Назовём эту таблицу $F$.\n",
    "\n",
    "Таким образом, для примера выше, попав в первом варианте в конфигурацию $f(3, 0011)$, мы пройдем алгоритм полностью и запишем:\n",
    "\n",
    "$$F[3, 0011_2] = k,$$\n",
    "\n",
    "где $k$ - количество возможных замощений из конфигурации $f(3, 0011)$.\n",
    "\n",
    "Во втором варианте, дойдя до $f(3, 0011)$, мы прекратим рекурсивные вызовы и возьмём уже готовое значение $k$ из таблицы."
   ]
  },
  {
   "cell_type": "markdown",
   "metadata": {},
   "source": [
    "# Оптимизированный рекурсивный алгоритм <a name=\"recursion-optimized\"></a>\n",
    "\n",
    "```python\n",
    "def count_tilings_recursive_optimized(i, v):\n",
    "    if i == b:       # Если мы находимся в конечном состоянии f(b, ?)\n",
    "        if v == 0:   # Если конечное состояние коррректно f(b, 0)\n",
    "            return 1 # Счетчик корректных замощений добавит 1 к общему числу\n",
    "        else:\n",
    "            return 0 # Счетчик корректных замощений получит 0, то есть не добавит ничего к общему числу\n",
    "    counter = 0      # Счетчик корректных замощений, начинающихся с конфигурации f(i, v)\n",
    "    for v_next in range(0, 2**a):       # Из текущего вектора мы пробуем перейти во все возможные другие вектора\n",
    "        if can_go_to_v_next(v, v_next): # Если мы можем перейти из вектора v в вектор v_next\n",
    "            if not F[i + 1][v_next]: # Если замощения из текущей конфигурации ещё не посчитаны\n",
    "                F[i + 1][v_next] = count_tilings_recursive_optimized(i + 1, v_next) # Считаем все возможные замощения из конфигурации f(i+1, v_next) и добавляем их в таблицу\n",
    "            counter += F[i + 1][v_next] # Берём готовое количество замощений из таблицы\n",
    "    return counter   # Возвращаем все возможные замощения из конфигурации f(i, v)\n",
    "\n",
    "answer = count_tilings_recursive_optimized(0, 0)  # Запускаем рекурсию с начальным состоянием f(0, 0)\n",
    "```"
   ]
  },
  {
   "cell_type": "markdown",
   "metadata": {},
   "source": [
    "## Переходы для векторов <a name=\"transitions\"></a>\n",
    "\n",
    "Остался еще один неисследованный вопрос: \"Как нам узнать, в какие конфигурации мы можем перейти из текущей?\".\n",
    "\n",
    "По сути, этот вопрос сводится к вопросу: в какие вектора $v_{i+1}$ можно перейти из вектора $v_i$? Так как i + 1 у нас одно для всех.\n",
    "\n",
    "Собственно, чтобы перейти из одного вектора в другой, должна существовать такая расстановка доминошек, после которой первый вектор стал бы полностью заполненным. При этом мы должны всегда стараться заполнить первый вектор, не пытаясь заполнить второй вектор. Это нужно, чтобы получить минимально возможное покрытие обоих векторов, что позволит не пропустить варианты.\n",
    "\n",
    "Данные условия можно формализовать:\n",
    "\n",
    "1. $v_i$ в итоге должен быть полностью заполнен;\n",
    "1. Если $v_i[z] = 0$ и $v_i[z + 1] = 0$, то мы можем разместить доминошку либо вертикально, что даст $v_{i+1}[z] = 0$ и $v_{i+1}[z + 1] = 0$, либо две доминошки горизонтально, что даст $v_{i+1}[z] = 1$ и $v_{i+1}[z + 1] = 1$;\n",
    "1. Если $v_i[z] = 0$ и $v_i[z + 1] = 1$, то мы можем разместить доминошку только горизонтально, что даст $v_{i+1}[z] = 1$ и $v_{i+1}[z + 1] = 0$;\n",
    "1. Если $v_i[z] = 1$ и $v_i[z + 1] = 0$, то мы можем разместить доминошку только горизонтально, что даст $v_{i+1}[z] = 0$ и $v_{i+1}[z + 1] = 1$;\n",
    "1. Если $v_i[z] = 1$ и $v_i[z + 1] = 1$, то доминошка в данные элементы вектора не влазит, что даст $v_{i+1}[z] = 0$ и $v_{i+1}[z + 1] = 0$."
   ]
  },
  {
   "cell_type": "markdown",
   "metadata": {},
   "source": [
    "## Алгоритм переходов для векторов <a name=\"transitions-algorithm\"></a>\n",
    "\n",
    "Зная, что вектор являет собой бинарную маску, можем свести вышеобозначенные условия к побитовым операциям над двумя числами:\n",
    "\n",
    "```python\n",
    "def can_go_to_v_next(v1, v2, height):\n",
    "    if v1 & v2 == 0: # Если в v1 стоит 1, то в v2 обязательно должен быть 0, это горизонтальная доминошка\n",
    "        c = 0 # Счетчик замощения нулевых битов\n",
    "        v = v1 | v2 # Сливаем единицы в маске, чтобы посчитать нули\n",
    "        for _ in range(0, height): # Вычленяем вектор размером height из чисел и проверяем каждый бит отдельно\n",
    "            if v & 1 == 0: # Предположительно вертикальная доминошка\n",
    "                c += 1 # Увеличиваем счетчик вертикального замощения\n",
    "            elif c % 2 == 0: # Вертикальные замощения закончились корректно (четное количество бит)\n",
    "                c = 0\n",
    "            else: # Вертикальное замощение закончилось на половине доминошки\n",
    "                return False\n",
    "            v = v >> 1 # Переходим к следующему биту\n",
    "        if c % 2 == 0: # Вертикальные замощения закончились корректно\n",
    "            return True\n",
    "        else:\n",
    "            return False # Вертикальное замощение закончилось на половине доминошки\n",
    "    else: # Некорректное горизонтальное замощение\n",
    "        return False\n",
    "```"
   ]
  },
  {
   "cell_type": "markdown",
   "metadata": {},
   "source": [
    "# Реализация <a name=\"code\"></a>"
   ]
  },
  {
   "cell_type": "markdown",
   "metadata": {},
   "source": [
    "## Анализ производительности функций <a name=\"perf\"></a>"
   ]
  },
  {
   "cell_type": "code",
   "execution_count": 19,
   "metadata": {},
   "outputs": [],
   "source": [
    "def measure(func, args_table, n=1, pred_size=50, degree=3):\n",
    "    \"\"\"\n",
    "    Анализирует производительность поданной на вход функции, строя график, предсказывающий производительность.\n",
    "    :param func: Функция для анализа\n",
    "    :param args_table: Список входящих аргументов\n",
    "    :param n: Количество запусков функции\n",
    "    :param pred_size: Глубина предсказания\n",
    "    :param degree: Степень многочлена для аппроксимации\n",
    "    \"\"\"\n",
    "    t = []\n",
    "    # Запускаем измерения\n",
    "    for args in args_table:\n",
    "        t.append(timeit.timeit(lambda: func(*args), number=n) / n)\n",
    "    args_x = [x[0] for x in args_table]\n",
    "    \n",
    "    # С DataFrame удобнее работать\n",
    "    df = pd.DataFrame({'args': args_x, 't': t})\n",
    "    if func.__name__ != '<lambda>':\n",
    "        with open((func.__name__) + '.csv', 'a') as f:\n",
    "            df.to_csv(f, mode='a', header=f.tell()==0)\n",
    "    X = df[['args']]\n",
    "    y = df.t\n",
    "    \n",
    "    # Т.к. зависимость сложная, нужна регрессия с полиномом\n",
    "    polynomial_features = PolynomialFeatures(degree=degree)\n",
    "    X_poly = polynomial_features.fit_transform(X)\n",
    "\n",
    "    # Обучаем линейную регрессию\n",
    "    model = linear_model.LinearRegression()\n",
    "    model.fit(X_poly, y)\n",
    "    \n",
    "    # Предсказываем\n",
    "    X_pred = np.linspace(0, pred_size, pred_size*100).reshape(-1, 1)\n",
    "    X_pred_poly = polynomial_features.fit_transform(X_pred)\n",
    "    y_pred = model.predict(X_pred_poly)\n",
    "    \n",
    "    # Делаем красивой ось времени\n",
    "    fig, ax = plt.subplots()\n",
    "    formatter_y = matplotlib.ticker.FuncFormatter(lambda x, pos: datetime.timedelta(seconds=x))\n",
    "    ax.yaxis.set_major_formatter(formatter_y)\n",
    "    \n",
    "    # Делаем красивой ось входящих аргументов\n",
    "    delta = args_table[1][0] - args_table[0][0]\n",
    "    formatter_x = matplotlib.ticker.FuncFormatter(lambda x, pos: pos)\n",
    "    #ax.xaxis.set_major_formatter(formatter_x)\n",
    "    \n",
    "    plt.title(func.__name__)\n",
    "    # Выводим входные аргументы\n",
    "    plt.xlabel(str([[y for y in x if type(y) is int] for x in args_table]))\n",
    "    \n",
    "    # Рисуем график\n",
    "    plt.scatter(args_x, t)\n",
    "    plt.plot(X_pred, y_pred)"
   ]
  },
  {
   "cell_type": "markdown",
   "metadata": {},
   "source": [
    "## Работа с векторами <a name=\"code-vectors\"></a>"
   ]
  },
  {
   "cell_type": "code",
   "execution_count": 20,
   "metadata": {},
   "outputs": [],
   "source": [
    "def can_go_to_v_next(v1, v2, height):\n",
    "    \"\"\"\n",
    "    Проверяет, можно ли перейти из одного вектора v1 размерностью height в другой v1.\n",
    "    :param v1: Исходный вектор\n",
    "    :param v2: Предполагаемый вектор\n",
    "    :param height: Размер вектора\n",
    "    \"\"\"\n",
    "    # Исключаем ситуации, когда нет места горизонтальной доминошке\n",
    "    if v1 & v2 == 0:\n",
    "        c = 0\n",
    "        v = v1 | v2\n",
    "        # Проверяем, что есть место для вертикальных доминошек\n",
    "        for _ in range(0, height):\n",
    "            if v & 1 == 0:\n",
    "                c += 1\n",
    "            elif c % 2 == 0:\n",
    "                c = 0\n",
    "            else:\n",
    "                return False\n",
    "            v = v >> 1\n",
    "        return True if c % 2 == 0 else False\n",
    "    else:\n",
    "        return False"
   ]
  },
  {
   "cell_type": "markdown",
   "metadata": {},
   "source": [
    "Разумно заранее вычислить все возможные переходы из одного вектора в другие, чтобы сократить количество однотипных вычислений. Для этого мы составим таблицу размером $2^a \\times 2^a$, где индексы будут являться числами, равными значениям векторов.\n",
    "\n",
    "Мы можем использовать либо список, что увеличит потребление ресурсов, либо двумерный массив numpy, что будет более экономно. Преимущество списка - возможность работы за пределами оперативной памяти."
   ]
  },
  {
   "cell_type": "code",
   "execution_count": 21,
   "metadata": {},
   "outputs": [],
   "source": [
    "def precompute_v_transitions_np(a):\n",
    "    \"\"\"\n",
    "    Заполняет таблицу возможности перехода из одних векторов в другие с помощью numpy array.\n",
    "    :param a: Размер вектора\n",
    "    \"\"\"\n",
    "    height = 2**a\n",
    "    table = np.empty((height, height), dtype='?')\n",
    "    for v_from in range(0, height):\n",
    "        for v_to in range(0, height):\n",
    "            table[v_from, v_to] = can_go_to_v_next(v_from, v_to, a)\n",
    "    return table"
   ]
  },
  {
   "cell_type": "code",
   "execution_count": 89,
   "metadata": {
    "scrolled": false
   },
   "outputs": [
    {
     "data": {
      "image/png": "[encoded data removed]",
      "text/plain": [
       "<Figure size 432x288 with 1 Axes>"
      ]
     },
     "metadata": {
      "needs_background": "light"
     },
     "output_type": "display_data"
    }
   ],
   "source": [
    "a = 10\n",
    "measure(precompute_v_transitions_np, [[x] for x in range(2, a + 1, 2)], n=1, pred_size=50)"
   ]
  },
  {
   "cell_type": "code",
   "execution_count": 87,
   "metadata": {},
   "outputs": [],
   "source": [
    "def precompute_v_transitions_list(a):\n",
    "    \"\"\"\n",
    "    Заполняет таблицу возможности перехода из одних векторов в другие с помощью list.\n",
    "    :param a: Размер вектора\n",
    "    \"\"\"\n",
    "    height = 2**a\n",
    "    return [[can_go_to_v_next(v_from, v_to, a) for v_to in range(0, height)] for v_from in range(0, height)]"
   ]
  },
  {
   "cell_type": "code",
   "execution_count": 90,
   "metadata": {
    "scrolled": true
   },
   "outputs": [
    {
     "data": {
      "image/png": "[encoded data removed]",
      "text/plain": [
       "<Figure size 432x288 with 1 Axes>"
      ]
     },
     "metadata": {
      "needs_background": "light"
     },
     "output_type": "display_data"
    }
   ],
   "source": [
    "a = 10\n",
    "measure(precompute_v_transitions_list, [[x] for x in range(2, a + 1, 2)], n=1, pred_size=50)"
   ]
  },
  {
   "cell_type": "markdown",
   "metadata": {},
   "source": [
    "# Последовательность A004003\n",
    "\n",
    "Для проверки работы алгоритма мы возьмем готовую таблицу значений из http://oeis.org/A004003."
   ]
  },
  {
   "cell_type": "code",
   "execution_count": 40,
   "metadata": {},
   "outputs": [],
   "source": [
    "seq_a004003 = ['2', '36', '6728', '12988816', '258584046368', '53060477521960000', '112202208776036178000000',\n",
    "             '2444888770250892795802079170816', '548943583215388338077567813208427340288',\n",
    "             '1269984011256235834242602753102293934298576249856']"
   ]
  },
  {
   "cell_type": "markdown",
   "metadata": {},
   "source": [
    "## Рекурсивный алгоритм <a name=\"code-recursive\"></a>"
   ]
  },
  {
   "cell_type": "code",
   "execution_count": 25,
   "metadata": {},
   "outputs": [
    {
     "name": "stdout",
     "output_type": "stream",
     "text": [
      "6728\n"
     ]
    }
   ],
   "source": [
    "def count_tilings_recursive(a, b, i=0, v=0, transitions=None):\n",
    "    \"\"\"\n",
    "    Рекурсивный алгоритм.\n",
    "    :param a: Размер доски по вертикали\n",
    "    :param b: Размер доски по горизонтали\n",
    "    :param i: Количество полностью покрытых столбцов\n",
    "    :param v: Вектор частично заполненного столбца\n",
    "    :param transitions: Предрассчитанные переходы векторов\n",
    "    \n",
    "    \"\"\"\n",
    "    if transitions is None:\n",
    "        transitions = precompute_v_transitions_np(a)\n",
    "    if i == b:\n",
    "        if v == 0:\n",
    "            return 1\n",
    "        else:\n",
    "            return 0\n",
    "    counter = 0\n",
    "    for v_next in range(0, 2**a):\n",
    "        if transitions[v, v_next]:\n",
    "            counter += count_tilings_recursive(a, b, i + 1, v_next, transitions)\n",
    "    return counter\n",
    "\n",
    "a = 6\n",
    "b = 6\n",
    "answer = count_tilings_recursive(a, b)\n",
    "print(answer)"
   ]
  },
  {
   "cell_type": "code",
   "execution_count": 26,
   "metadata": {},
   "outputs": [
    {
     "data": {
      "image/png": "[encoded data removed]",
      "text/plain": [
       "<Figure size 432x288 with 1 Axes>"
      ]
     },
     "metadata": {
      "needs_background": "light"
     },
     "output_type": "display_data"
    }
   ],
   "source": [
    "a = b = 6\n",
    "measure(\n",
    "    count_tilings_recursive,\n",
    "    [[x, x] for x in range(2, a + 1, 2)],\n",
    "    n=10,\n",
    "    pred_size=50\n",
    ")"
   ]
  },
  {
   "cell_type": "markdown",
   "metadata": {},
   "source": [
    "## Оптимизированный рекурсивный алгоритм <a name=\"code-recursive-optimized\"></a>"
   ]
  },
  {
   "cell_type": "code",
   "execution_count": 99,
   "metadata": {
    "scrolled": false
   },
   "outputs": [
    {
     "name": "stdout",
     "output_type": "stream",
     "text": [
      "12988816\n"
     ]
    }
   ],
   "source": [
    "def count_tilings_recursive_optimized(a, b, i=0, v=0, iv_table=None, transitions=None, precompute_v_transitions=precompute_v_transitions_np):\n",
    "    \"\"\"\n",
    "    Оптимизированный рекурсивный алгоритм.\n",
    "    :param a: Размер доски по вертикали\n",
    "    :param b: Размер доски по горизонтали\n",
    "    :param i: Количество полностью покрытых столбцов\n",
    "    :param v: Вектор частично заполненного столбца\n",
    "    :param iv_table: Сохраненные ответы\n",
    "    :param transitions: Предрассчитанные переходы векторов\n",
    "    :param precompute_v_transitions: Функция предрасчета таблицы переходов\n",
    "    \"\"\"\n",
    "    if iv_table is None:\n",
    "        iv_table = [[-1 for _ in range(0, 2**a)] for i in range(0, b + 1)]\n",
    "    if transitions is None:\n",
    "        transitions = precompute_v_transitions(a)\n",
    "    if i == b:\n",
    "        if v == 0:\n",
    "            return 1\n",
    "        else:\n",
    "            return 0\n",
    "    counter = 0\n",
    "    for v_next in range(0, 2**a):\n",
    "        if transitions[v][v_next]:\n",
    "            if iv_table[i + 1][v_next] == -1:\n",
    "                iv_table[i + 1][v_next] = count_tilings_recursive_optimized(a, b, i + 1, v_next, iv_table, transitions)\n",
    "            counter += iv_table[i + 1][v_next]\n",
    "    return counter\n",
    "\n",
    "a = 8\n",
    "b = 8\n",
    "answer = count_tilings_recursive_optimized(a, b)\n",
    "print(answer)"
   ]
  },
  {
   "cell_type": "code",
   "execution_count": 94,
   "metadata": {},
   "outputs": [
    {
     "name": "stdout",
     "output_type": "stream",
     "text": [
      "count_tilings_recursive_optimized(2, 2) = 2. PASS.\n",
      "count_tilings_recursive_optimized(4, 4) = 36. PASS.\n",
      "count_tilings_recursive_optimized(6, 6) = 6728. PASS.\n",
      "count_tilings_recursive_optimized(8, 8) = 12988816. PASS.\n",
      "count_tilings_recursive_optimized(10, 10) = 258584046368. PASS.\n"
     ]
    }
   ],
   "source": [
    "def test_count_tilings_recursive_optimized():\n",
    "    for index, precomputed in enumerate(seq_a004003[:5], start=1):\n",
    "        a = b = index * 2\n",
    "        answer = count_tilings_recursive_optimized(a, b)\n",
    "        print(\"count_tilings_recursive_optimized({}, {}) = {}. {}.\".format(\n",
    "            a,\n",
    "            b,\n",
    "            answer,\n",
    "            \"PASS\" if str(answer) == precomputed else \"FAIL\"\n",
    "        ))\n",
    "\n",
    "test_count_tilings_recursive_optimized()"
   ]
  },
  {
   "cell_type": "code",
   "execution_count": 66,
   "metadata": {
    "scrolled": false
   },
   "outputs": [
    {
     "data": {
      "image/png": "[encoded data removed]",
      "text/plain": [
       "<Figure size 432x288 with 1 Axes>"
      ]
     },
     "metadata": {
      "needs_background": "light"
     },
     "output_type": "display_data"
    }
   ],
   "source": [
    "a = b = 12\n",
    "measure(\n",
    "    count_tilings_recursive_optimized,\n",
    "    [[x, x] for x in range(2, a + 1, 2)],\n",
    "    n=1,\n",
    "    pred_size=50\n",
    ")"
   ]
  },
  {
   "cell_type": "markdown",
   "metadata": {},
   "source": [
    "# Вычисленные числа в данной тетрадке <a name=\"computed\"></a>"
   ]
  },
  {
   "cell_type": "markdown",
   "metadata": {},
   "source": [
    "Данные вычисления были произведены прямо в текущей тетрадке, затраченное время можно увидеть в *Wall time*."
   ]
  },
  {
   "cell_type": "code",
   "execution_count": 61,
   "metadata": {
    "scrolled": true
   },
   "outputs": [
    {
     "name": "stdout",
     "output_type": "stream",
     "text": [
      "Wall time: 7.69 s\n"
     ]
    },
    {
     "data": {
      "text/plain": [
       "53060477521960000"
      ]
     },
     "execution_count": 61,
     "metadata": {},
     "output_type": "execute_result"
    }
   ],
   "source": [
    "%%time\n",
    "count_tilings_recursive_optimized(12, 12)"
   ]
  },
  {
   "cell_type": "markdown",
   "metadata": {},
   "source": [
    "Для $a = b = 12$ получаем $n = 53060477521960000$."
   ]
  },
  {
   "cell_type": "code",
   "execution_count": 71,
   "metadata": {},
   "outputs": [
    {
     "name": "stdout",
     "output_type": "stream",
     "text": [
      "Wall time: 2min 10s\n"
     ]
    },
    {
     "data": {
      "text/plain": [
       "112202208776036178000000"
      ]
     },
     "execution_count": 71,
     "metadata": {},
     "output_type": "execute_result"
    }
   ],
   "source": [
    "%%time\n",
    "count_tilings_recursive_optimized(14, 14)"
   ]
  },
  {
   "cell_type": "markdown",
   "metadata": {},
   "source": [
    "Для $a = b = 14$ получаем $n = 112202208776036178000000$."
   ]
  },
  {
   "cell_type": "code",
   "execution_count": 73,
   "metadata": {},
   "outputs": [
    {
     "name": "stdout",
     "output_type": "stream",
     "text": [
      "Wall time: 35min 45s\n"
     ]
    },
    {
     "data": {
      "text/plain": [
       "2444888770250892795802079170816"
      ]
     },
     "execution_count": 73,
     "metadata": {},
     "output_type": "execute_result"
    }
   ],
   "source": [
    "%%time\n",
    "count_tilings_recursive_optimized(16, 16)"
   ]
  },
  {
   "cell_type": "markdown",
   "metadata": {},
   "source": [
    "Для $a = b = 16$ получаем $n = 2444888770250892795802079170816$."
   ]
  },
  {
   "cell_type": "code",
   "execution_count": 75,
   "metadata": {},
   "outputs": [
    {
     "name": "stdout",
     "output_type": "stream",
     "text": [
      "Wall time: 2h 25min 40s\n"
     ]
    },
    {
     "data": {
      "text/plain": [
       "3023972648453090098847701387683202369"
      ]
     },
     "execution_count": 75,
     "metadata": {},
     "output_type": "execute_result"
    }
   ],
   "source": [
    "%%time\n",
    "count_tilings_recursive_optimized(17, 18)"
   ]
  },
  {
   "cell_type": "markdown",
   "metadata": {},
   "source": [
    "Для $a = 17, b = 18$ получаем $n = 3023972648453090098847701387683202369$."
   ]
  },
  {
   "cell_type": "code",
   "execution_count": 101,
   "metadata": {
    "scrolled": true
   },
   "outputs": [
    {
     "name": "stdout",
     "output_type": "stream",
     "text": [
      "Wall time: 23min 45s\n"
     ]
    },
    {
     "data": {
      "text/plain": [
       "923928802526649277978986699734118237839301236744758561"
      ]
     },
     "execution_count": 101,
     "metadata": {},
     "output_type": "execute_result"
    }
   ],
   "source": [
    "%%time\n",
    "count_tilings_recursive_optimized(15, 30)"
   ]
  },
  {
   "cell_type": "markdown",
   "metadata": {},
   "source": [
    "Для $a = 15, b = 30$ получаем $n = 923928802526649277978986699734118237839301236744758561$."
   ]
  },
  {
   "cell_type": "code",
   "execution_count": 103,
   "metadata": {},
   "outputs": [
    {
     "name": "stdout",
     "output_type": "stream",
     "text": [
      "Wall time: 46min 2s\n"
     ]
    },
    {
     "data": {
      "text/plain": [
       "6161980077253528077935036258159799807001056897362244183716344604115730310552059430381432666396939141778344731"
      ]
     },
     "execution_count": 103,
     "metadata": {},
     "output_type": "execute_result"
    }
   ],
   "source": [
    "%%time\n",
    "count_tilings_recursive_optimized(15, 60)"
   ]
  },
  {
   "cell_type": "markdown",
   "metadata": {},
   "source": [
    "Для $a = 15, b = 60$ получаем $n = 6161980077253528077935036258159799807001056897362244183716344604115730310552059430381432666396939141778344731$."
   ]
  },
  {
   "cell_type": "code",
   "execution_count": 104,
   "metadata": {
    "scrolled": true
   },
   "outputs": [
    {
     "name": "stdout",
     "output_type": "stream",
     "text": [
      "Wall time: 1h 28min 32s\n"
     ]
    },
    {
     "data": {
      "text/plain": [
       "274087410487651644890503453398936105844296709708243041850099877547358645899534187744929239863538441564174711709017699161711953479125554298678537228862424174427565357081911841467197908444634080796987929939976622199566217"
      ]
     },
     "execution_count": 104,
     "metadata": {},
     "output_type": "execute_result"
    }
   ],
   "source": [
    "%%time\n",
    "count_tilings_recursive_optimized(15, 120)"
   ]
  },
  {
   "cell_type": "markdown",
   "metadata": {},
   "source": [
    "Для $a = 15, b = 120$ получаем $n = 274087410487651644890503453398936105844296709708243041850099877547358645899534187744929239863538441564174711709017699161711953479125554298678537228862424174427565357081911841467197908444634080796987929939976622199566217$."
   ]
  },
  {
   "cell_type": "code",
   "execution_count": 106,
   "metadata": {
    "scrolled": true
   },
   "outputs": [
    {
     "name": "stdout",
     "output_type": "stream",
     "text": [
      "Wall time: 18h 37min 6s\n"
     ]
    },
    {
     "data": {
      "text/plain": [
       "12379965592179340978462129559919368598640251532854699303795729519042243565830878603439721342501305628483687291045480115836707343769988954163322226675760650418292403771081715891183403420127519098762888978274922163842673484291839883577632166667101922650727453931074226423324353618006339475855052505903467810327610697274008097003324344768149790993914992005647121082189028891862357190858085357211136265626443796727627949988162684176142869515616714014489511982350347816621540311707182304039449059165866031468990201504039537408269800982281918457638626670871324778882997636261101637155937466380274761101133048564828367058483333524455154715170274273218586572194368801047997771286732146778085941580810062726119041483660042507609575074706525421242423256324440623520362197449881444939218873215923320116556089080954861525150476247310122771061456190112074885807499111416164824260217528342224877491350947646545225583446833195620495889854748389447707455408746099961365611639125308498488143703158671461038154822712518441885856625415874160219665590609596167844773659052394980579265092852885233959002446555716328225781554733382284665467235525737791834929652633108699205336318573796879673579042387165815831449778656309701562778456288128583270057443617545363147907948552297535846309827517071986826391372862977055762980454806128523216918055404738431614416678106694227967105955130726691793603925050731127831836419719894879256277426277479223601232965085812637274356036167011672616790446625310631954378349304782805583286318838870090155603258508450250431896287053535300683718678274734780373416636006527233611473506352544441552065871291516087757337466453241779264247299539828211543420516415494975893636264229505063572552243893774604277717969164690011325083508249221126654046080949710400087625789196331420849923494317453048187710148280520952767215730685103288856895449055105865770488398550192000433769279691598632157243790284991681955454182312854041901875310450409900774655551219648525228438328521706001919983153758199996338106586852457181619987326914602632064043310002901992724405394194516681611979844965283658625585690883897395533420309076513657890053651546981598694275678079189080026898314048473456183740955506699374196303913851063068529937508428283406870287025704498315264678941102188751891700438455788012275752732951495187669185391131907394872905018361566323697650164160914791146061643277516708983663183859955117767408271611027161035675073836095317198797932123499599787610325712814270137694290173815698453442678287884822705331075682719698274917142381142502676466111202409237973694149590220651329356159485384715361146037526877837153388975793950963953718279315941200333782682865994676149847232275160574874425068396372173833112004661457349914451177403394756774821710749115036204892920026254752374911392706986169247115294178754617662770706363589367087455944560520106693509009954497854637234434726861077414249546704087621931421339886562316570587202497"
      ]
     },
     "execution_count": 106,
     "metadata": {},
     "output_type": "execute_result"
    }
   ],
   "source": [
    "%%time\n",
    "count_tilings_recursive_optimized(15, 1600)"
   ]
  },
  {
   "cell_type": "markdown",
   "metadata": {},
   "source": [
    "Для $a = 15, b = 1600$ получаем $n = 12379965592179340978462129559919368598640251532854699303795729519042243565830878603439721342501305628483687291045480115836707343769988954163322226675760650418292403771081715891183403420127519098762888978274922163842673484291839883577632166667101922650727453931074226423324353618006339475855052505903467810327610697274008097003324344768149790993914992005647121082189028891862357190858085357211136265626443796727627949988162684176142869515616714014489511982350347816621540311707182304039449059165866031468990201504039537408269800982281918457638626670871324778882997636261101637155937466380274761101133048564828367058483333524455154715170274273218586572194368801047997771286732146778085941580810062726119041483660042507609575074706525421242423256324440623520362197449881444939218873215923320116556089080954861525150476247310122771061456190112074885807499111416164824260217528342224877491350947646545225583446833195620495889854748389447707455408746099961365611639125308498488143703158671461038154822712518441885856625415874160219665590609596167844773659052394980579265092852885233959002446555716328225781554733382284665467235525737791834929652633108699205336318573796879673579042387165815831449778656309701562778456288128583270057443617545363147907948552297535846309827517071986826391372862977055762980454806128523216918055404738431614416678106694227967105955130726691793603925050731127831836419719894879256277426277479223601232965085812637274356036167011672616790446625310631954378349304782805583286318838870090155603258508450250431896287053535300683718678274734780373416636006527233611473506352544441552065871291516087757337466453241779264247299539828211543420516415494975893636264229505063572552243893774604277717969164690011325083508249221126654046080949710400087625789196331420849923494317453048187710148280520952767215730685103288856895449055105865770488398550192000433769279691598632157243790284991681955454182312854041901875310450409900774655551219648525228438328521706001919983153758199996338106586852457181619987326914602632064043310002901992724405394194516681611979844965283658625585690883897395533420309076513657890053651546981598694275678079189080026898314048473456183740955506699374196303913851063068529937508428283406870287025704498315264678941102188751891700438455788012275752732951495187669185391131907394872905018361566323697650164160914791146061643277516708983663183859955117767408271611027161035675073836095317198797932123499599787610325712814270137694290173815698453442678287884822705331075682719698274917142381142502676466111202409237973694149590220651329356159485384715361146037526877837153388975793950963953718279315941200333782682865994676149847232275160574874425068396372173833112004661457349914451177403394756774821710749115036204892920026254752374911392706986169247115294178754617662770706363589367087455944560520106693509009954497854637234434726861077414249546704087621931421339886562316570587202497$."
   ]
  }
 ],
 "metadata": {
  "kernelspec": {
   "display_name": "Python 3",
   "language": "python",
   "name": "python3"
  },
  "language_info": {
   "codemirror_mode": {
    "name": "ipython",
    "version": 3
   },
   "file_extension": ".py",
   "mimetype": "text/x-python",
   "name": "python",
   "nbconvert_exporter": "python",
   "pygments_lexer": "ipython3",
   "version": "3.7.3"
  }
 },
 "nbformat": 4,
 "nbformat_minor": 2
}
